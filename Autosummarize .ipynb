{
 "cells": [
  {
   "cell_type": "code",
   "execution_count": 1,
   "metadata": {},
   "outputs": [],
   "source": [
    "import urllib.request as urllib2\n",
    "from bs4 import BeautifulSoup\n",
    "\n",
    "from nltk.tokenize import sent_tokenize,word_tokenize\n",
    "from nltk.corpus import stopwords\n",
    "from string import punctuation\n",
    "\n",
    "from nltk.probability import FreqDist\n",
    "from heapq import nlargest\n",
    "from collections import defaultdict\n"
   ]
  },
  {
   "cell_type": "code",
   "execution_count": 2,
   "metadata": {},
   "outputs": [],
   "source": [
    "articleURL = \"https://www.washingtonpost.com/politics/texas-voting-restrictions/2021/05/29/86923248-be25-11eb-9c90-731aff7d9a0d_story.html\""
   ]
  },
  {
   "cell_type": "code",
   "execution_count": 9,
   "metadata": {},
   "outputs": [],
   "source": [
    "def getTextWaPo(url):\n",
    "    page = urllib2.urlopen(url).read().decode('utf-8','ignore')\n",
    "    soup = BeautifulSoup(page,\"lxml\")\n",
    "    text = ' '.join(map(lambda p: p.text, soup.find_all('article')))\n",
    "    return text.encode('ascii', errors='replace').replace(b\"?\",b\"\")"
   ]
  },
  {
   "cell_type": "code",
   "execution_count": 10,
   "metadata": {},
   "outputs": [],
   "source": [
    "text = getTextWaPo(articleURL)"
   ]
  },
  {
   "cell_type": "code",
   "execution_count": 11,
   "metadata": {},
   "outputs": [
    {
     "data": {
      "text/plain": [
       "b\"Protestors demonstrate against proposed voter legislation at the Texas Capitol in Austin on May 6. (Eric Gay/AP)By  Amy GardnerMay 29, 2021 at 7:36 p.m. UTCThe Texas legislature on Saturday moved closer to enacting dozens of new restrictions on the voting process, as Republican lawmakers reached a deal that imposes a raft of hurdles on casting ballots by mail and enhances civil and criminal penalties for election administrators, voters and those seeking to assist them.Support our journalism. Subscribe today.arrow-rightThe measure would make it illegal for election officials to send out unsolicited mail ballot applications, empower partisan poll watchers and ban practices such as drop boxes and drive-through voting that were popularized in heavily Democratic Harris County last year, according to a final draft distributed by legislative staff to voting right advocates Saturday morning.In a last-minute addition, language was inserted in the bill making it easier to overturn an election, no longer requiring evidence that fraud actually altered an outcome of a race  but rather only that enough ballots were illegally cast that could have made a difference.AdvertisementStory continues below advertisementThe final draft of Senate Bill 7 was filed Saturday morning, after being mired for days in protracted negotiations between the state House and Senate. The measure bucks the entreaties of civil rights leaders and business executives who sought to head off legislation they say will suppress voter participation and disenfranchise voters of color.But GOP lawmakers pushed forward, saying it was necessary to shore up voter trust, even as they struggled to justify the need for stricter rules in the state, where officials said the 2020 election was secure.Texas House passes GOP bill tightening voting rules; Democrats vow to fight in courtThe legislation is the latest example of how state officials have rushed to align themselves with former president Donald Trumps false claims that lax voting rules undermined the integrity of the 2020 presidential election.Story continues below advertisementGOP lawmakers in dozens of states are pushing new voting measures in the name of election security, under intense pressure from supporters who echo Trumps false claims of rampant fraud. States including Florida, Georgia, Iowa and Montana have passed measures that curtail voting access, imposing new restrictions on mail voting, the use of drop boxes and the ability to offer voters food or water while they wait in long lines.AdvertisementThe Texas legislation is now headed to the House and Senate chambers for final approval this weekend. Gov. Greg Abbott (R), an ardent Trump supporter and potential 2024 presidential contender who threatened lawmakers with a special session if they did not pass a voting bill this week, is expected to sign it soon. The bill is among a number of controversial measures the Texas legislature has focused on in its final hours before adjourning on Monday, including a restriction on how teachers may discuss the nations history of racism in the classroom.Voting rights groups have pledged to move quickly to challenge the law in court, and President Biden condemned the measure Saturday, calling on Congress to move forward on federal voting legislation that would override many of the provisions being passed in GOP-controlled states.Story continues below advertisementThe Texas measure is part of an assault on democracy that weve seen far too often this yearand often disproportionately targeting Black and Brown Americans, the president said in a statement. Its wrong and un-American. In the 21st century, we should be making it easier, not harder, for every eligible voter to vote.AdvertisementThe two lead proponents of the Texas voting legislation, Republicans Rep. Briscoe Cain and Sen. Bryan Hughes, announced late Friday that they had reached a compromise between the Senates original omnibus voting proposal and the Houses less restrictive version.Senate Bill 7 is one of the most comprehensive and sensible election reform bills in Texas history, Cain and Hughes said in a statement issued Friday evening. There is nothing more foundational to this democracy and our state than the integrity of our elections.Story continues below advertisementAs of Saturday midday, the final version was not yet published on the Texas legislatures website. The 67-page draft distributed by House and Senate staff declares as its purpose to reduce the likelihood of fraud in the conduct of elections, protect the secrecy of the ballot, promote voter access, and ensure that all legally cast ballots are counted.AdvertisementThe bill would broadly prohibit local election officials from altering election procedures without express legislative permission  a direct hit against Harris County, home of Houston, where election officials implemented various expansions last year to help voters cast ballots during the pandemic. It also specifically targets some of those expansions, explicitly banning drive-through voting locations, temporary polling places in tents and 24-hour or late-night voting marathons.The proposed new voting hurdles come after the state logged record turnout in the 2020 election, including huge surges in early voting in cities including Austin and Houston.Story continues below advertisementVoting rights advocates say that is exactly what the GOP is aiming to prevent with new laws.Senate Bill 7 is a ruthless piece of legislation, said Sarah Labowitz, policy and advocacy director for the ACLU of Texas. It targets voters of color and voters with disabilities, in a state thats already the most difficult place to vote in the country.AdvertisementAdvocates said the measure is likely to disproportionately affect Texans of color, noting that an analysis by the Texas Civil Rights Project showed that after-hours voting was used predominantly by Black and Latino voters.The choice to push this legislation forward in the dark, despite overwhelming opposition from the people of Texas, is about the politicians in power doing everything they can to manipulate the outcome of future elections to keep themselves in power, said Anthony Gutierrez, executive director of Common Cause Texas.Story continues below advertisementDuring debate in the House earlier this month, Cain maintained that he was not backing a voter suppression bill but rather a voting enhancement bill, insisting that the measure was designed to protect all voters.According to the final draft, the Texas bill would:Advertisement Impose state felony penalties on public officials who offer an application to vote by mail to someone who didnt request it; Allow signatures on mail ballot applications to be compared to any signature on record, eliminating protections that the signature on file must be recent and that the application signature must be compared to at least two others on file to prevent the arbitrary rejection of ballots;Story continues below advertisement Impose new identification requirements on those applying for mail ballots, in most cases requiring a drivers license or Social Security number; Impose a civil fine of $1,000 a day for local election officials who do not maintain their voter rolls as required by law, and impose criminal penalties on election workers who obstruct poll watchers. Grant partisan poll watchers new access to watch all steps of the voting and counting process near enough to see and hear the activity;Advertisement And require individuals to fill out a form if they plan to transport more than two non-relatives to the polls, and expand the requirement that those assisting voters who need help must sign an oath attesting under penalty of perjury that the person theyre helping is eligible for assistance because of a disability and that they will not suggest whom to vote for.Story continues below advertisementSome of the language seems intended to signal a tough stance on election fraud without actually changing existing law. One sentence bans straight-ticket voting  already illegal in Texas. Another declares criminal penalties for altering ballots or vote counts, also already illegal.And several provisions seem aimed at false claims that voting equipment was hacked or flipped votes in last years election. One requires all electronic voting equipment to record all activity, which it already does; another prohibits the use of voting equipment with the capacity to connect to the Internet  also already the case.AdvertisementThe measure does include slightly more required hours of early voting than current law, but it also caps early voting hours in ways that will reduce hours in many large counties. It contains some new voter protections, including a guarantee that voters standing in line at the time that a polling location closes may vote and a requirement that partisan poll watchers take an oath not to harass or disrupt voting.It would also require all counties to provide video surveillance of vote tabulation  and to live-stream it in large counties.As the voting-rights fight moves to Texas, defiant Republicans test the resolve of corporations that oppose restrictionsMore than 100 Houston business owners and community leaders joined in a statement earlier this month expressing concern that proposed state election measures could suppress voter participation and damage our competitiveness in attracting businesses and workers. A coalition of major corporations and business groups released another statement opposing changes to voting laws that would restrict access to the polls.But Texas Republicans acted quickly to head off the pushback, which mirrored a similar stance by major businesses in Georgia when that state approved its own new voting law in April.After Major League Baseball announced plans to pull its All-Star Game from Atlanta in the wake of the new Georgia measure, Abbott angrily declined to throw the first pitch at the Texas Rangers home opener, accusing the league of buying into a false narrative. Lt. Gov. Dan Patrick (R) responded to an early trickle of corporate statements denouncing the proposals under consideration in Austin by calling the critics, including Texas-based American Airlines and Dell Technologies, a nest of liars.And Cain, the chief House sponsor of one of the voting bills this year, proposed financial penalties against entities that publicly threaten any adverse action against this state in protest of election legislation.The outcome has tested the resolve of corporations that dipped into the national fight over voting and now are caught between liberal activists demanding action and Republicans who control economic policy in red states. And it could dampen corporate enthusiasm to weigh in on two federal voting bills that Republicans oppose: the For the People Act, which would establish national standards for election administration, and the reauthorization of the Voting Rights Act.\\ncomment CommentsToday's HeadlinesThe most important news stories of the day, curated by Post editors and delivered every morning.Loading...View more\""
      ]
     },
     "execution_count": 11,
     "metadata": {},
     "output_type": "execute_result"
    }
   ],
   "source": [
    "text"
   ]
  },
  {
   "cell_type": "code",
   "execution_count": 12,
   "metadata": {},
   "outputs": [],
   "source": [
    "def summarize(text, n):\n",
    "    sents = sent_tokenize(text)\n",
    "    \n",
    "    assert n <= len(sents)\n",
    "    word_sent = word_tokenize(text.lower())\n",
    "    _stopwords = set(stopwords.words('english') + list(punctuation))\n",
    "    \n",
    "    word_sent=[word for word in word_sent if word not in _stopwords]\n",
    "    freq = FreqDist(word_sent)\n",
    "    \n",
    "    \n",
    "    ranking = defaultdict(int)\n",
    "    \n",
    "    for i,sent in enumerate(sents):\n",
    "        for w in word_tokenize(sent.lower()):\n",
    "            if w in freq:\n",
    "                ranking[i] += freq[w]\n",
    "             \n",
    "        \n",
    "    sents_idx = nlargest(n, ranking, key=ranking.get)\n",
    "    return [sents[j] for j in sorted(sents_idx)]"
   ]
  },
  {
   "cell_type": "code",
   "execution_count": 19,
   "metadata": {},
   "outputs": [
    {
     "data": {
      "text/plain": [
       "['Subscribe today.arrow-rightThe measure would make it illegal for election officials to send out unsolicited mail ballot applications, empower partisan poll watchers and ban practices such as drop boxes and drive-through voting that were popularized in heavily Democratic Harris County last year, according to a final draft distributed by legislative staff to voting right advocates Saturday morning.In a last-minute addition, language was inserted in the bill making it easier to overturn an election, no longer requiring evidence that fraud actually altered an outcome of a race  but rather only that enough ballots were illegally cast that could have made a difference.AdvertisementStory continues below advertisementThe final draft of Senate Bill 7 was filed Saturday morning, after being mired for days in protracted negotiations between the state House and Senate.',\n",
       " 'The measure bucks the entreaties of civil rights leaders and business executives who sought to head off legislation they say will suppress voter participation and disenfranchise voters of color.But GOP lawmakers pushed forward, saying it was necessary to shore up voter trust, even as they struggled to justify the need for stricter rules in the state, where officials said the 2020 election was secure.Texas House passes GOP bill tightening voting rules; Democrats vow to fight in courtThe legislation is the latest example of how state officials have rushed to align themselves with former president Donald Trumps false claims that lax voting rules undermined the integrity of the 2020 presidential election.Story continues below advertisementGOP lawmakers in dozens of states are pushing new voting measures in the name of election security, under intense pressure from supporters who echo Trumps false claims of rampant fraud.',\n",
       " 'It targets voters of color and voters with disabilities, in a state thats already the most difficult place to vote in the country.AdvertisementAdvocates said the measure is likely to disproportionately affect Texans of color, noting that an analysis by the Texas Civil Rights Project showed that after-hours voting was used predominantly by Black and Latino voters.The choice to push this legislation forward in the dark, despite overwhelming opposition from the people of Texas, is about the politicians in power doing everything they can to manipulate the outcome of future elections to keep themselves in power, said Anthony Gutierrez, executive director of Common Cause Texas.Story continues below advertisementDuring debate in the House earlier this month, Cain maintained that he was not backing a voter suppression bill but rather a voting enhancement bill, insisting that the measure was designed to protect all voters.According to the final draft, the Texas bill would:Advertisement Impose state felony penalties on public officials who offer an application to vote by mail to someone who didnt request it; Allow signatures on mail ballot applications to be compared to any signature on record, eliminating protections that the signature on file must be recent and that the application signature must be compared to at least two others on file to prevent the arbitrary rejection of ballots;Story continues below advertisement Impose new identification requirements on those applying for mail ballots, in most cases requiring a drivers license or Social Security number; Impose a civil fine of $1,000 a day for local election officials who do not maintain their voter rolls as required by law, and impose criminal penalties on election workers who obstruct poll watchers.']"
      ]
     },
     "execution_count": 19,
     "metadata": {},
     "output_type": "execute_result"
    }
   ],
   "source": [
    "summarize(text,3)"
   ]
  },
  {
   "cell_type": "code",
   "execution_count": 18,
   "metadata": {},
   "outputs": [
    {
     "data": {
      "text/plain": [
       "str"
      ]
     },
     "execution_count": 18,
     "metadata": {},
     "output_type": "execute_result"
    }
   ],
   "source": [
    "type(text)"
   ]
  },
  {
   "cell_type": "code",
   "execution_count": 17,
   "metadata": {},
   "outputs": [
    {
     "name": "stdout",
     "output_type": "stream",
     "text": [
      "<class 'str'>\n"
     ]
    }
   ],
   "source": [
    "print(type(text))"
   ]
  },
  {
   "cell_type": "code",
   "execution_count": null,
   "metadata": {},
   "outputs": [],
   "source": []
  }
 ],
 "metadata": {
  "kernelspec": {
   "display_name": "Python 3",
   "language": "python",
   "name": "python3"
  },
  "language_info": {
   "codemirror_mode": {
    "name": "ipython",
    "version": 3
   },
   "file_extension": ".py",
   "mimetype": "text/x-python",
   "name": "python",
   "nbconvert_exporter": "python",
   "pygments_lexer": "ipython3",
   "version": "3.7.6"
  }
 },
 "nbformat": 4,
 "nbformat_minor": 4
}
