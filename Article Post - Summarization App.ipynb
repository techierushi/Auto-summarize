{
 "cells": [
  {
   "cell_type": "code",
   "execution_count": 12,
   "metadata": {},
   "outputs": [],
   "source": [
    "import urllib.request as urllib2\n",
    "from bs4 import BeautifulSoup\n",
    "\n",
    "from nltk.tokenize import sent_tokenize,word_tokenize\n",
    "from nltk.corpus import stopwords\n",
    "from string import punctuation\n",
    "\n",
    "from nltk.probability import FreqDist\n",
    "from heapq import nlargest\n",
    "from collections import defaultdict\n"
   ]
  },
  {
   "cell_type": "code",
   "execution_count": 13,
   "metadata": {},
   "outputs": [],
   "source": [
    "articleURL = \"https://www.washingtonpost.com/video-games/2021/05/27/mobile-games-spending/\""
   ]
  },
  {
   "cell_type": "code",
   "execution_count": 14,
   "metadata": {},
   "outputs": [],
   "source": [
    "def getTextWaPo(url):\n",
    "    page = urllib2.urlopen(url).read().decode('utf-8','ignore')\n",
    "    soup = BeautifulSoup(page,\"lxml\")\n",
    "    text = ' '.join(map(lambda p: p.text, soup.find_all('article')))\n",
    "    return text.encode('ascii', errors='replace').replace(b\"?\",b\"\")"
   ]
  },
  {
   "cell_type": "code",
   "execution_count": 4,
   "metadata": {},
   "outputs": [],
   "source": [
    "text = getTextWaPo(articleURL)"
   ]
  },
  {
   "cell_type": "code",
   "execution_count": 5,
   "metadata": {},
   "outputs": [
    {
     "name": "stdout",
     "output_type": "stream",
     "text": [
      "<class 'str'>\n"
     ]
    }
   ],
   "source": [
    "text = text.decode('utf-8')\n",
    "print(type(text))"
   ]
  },
  {
   "cell_type": "code",
   "execution_count": 6,
   "metadata": {},
   "outputs": [
    {
     "data": {
      "text/plain": [
       "\"By  Shannon LiaoMay 27, 2021 at 3:11 p.m. UTCWhen the first smartphones debuted in the early 2000s, mobile gaming consisted of simplistic titles such as Snake, where the player leads a snakelike chain of pixels around the screen to eat other pixels and grow longer. Soon the market expanded into word games, like 2009s Words with Friends and three-in-a-row matching games like Candy Crush Saga in 2012, both primarily played by people whittling away time on public transportation or in a doctors waiting room.Support our journalism. Subscribe today.arrow-rightToday, over three billion people have smartphones and over two billion of them play games on those phones. Some of those mobile titles now even rival the quality of games traditionally enjoyed on consoles and expensive PCs.A decade ago, mobile gaming was underestimated and considered casual by both gamers and developers, compared to its more sophisticated siblings, like PCs, PlayStations and Xboxes. But the mobile gaming sector is so big now, it cant be ignored: In 2019, player spending in mobile gaming surpassed console and PC gaming combined, according to Matt Piscatella of The NPD Group, a market research company. And though the pandemic dented mobile game spending in 2020, in part due to higher unemployment, it was still significantly larger than consoles or PCs, according to a variety of market analysis firms.AdvertisementStory continues below advertisementMobile gaming brought in an estimated nearly $80 billion in 2020 revenue, compared with PC making almost $37 billion, and consoles  such as the Nintendo Switch, Sonys PlayStation and Microsofts Xbox  totaling $45 billion, according to gaming analytics company Newzoo.Massive game publishing companies like Activision Blizzard and tech giants like Apple have awaked to the opportunity of investing in mobile gaming. As new, lucrative business models have sprung up  such as free-to-play titles with in-game purchase options  companies have generated more revenue by building out elaborate and complex games on mobile.In Epic v. Apples final day, a glimpse of what comes nextThe growth has been rapid. In 2015, Apple and Google, who control the two primary mobile app download markets, saw almost $27 billion gross revenue from games globally. That figure jumped by almost 300% over the next five years, according to Craig Chapple, mobile insights strategist at Sensor Tower.The mobile gaming boom has changed the way people play games, how games are built and our expectations for whats available on mobile platforms. This month, two companies that have both grown rich from mobile gaming  Apple and Epic Games  fought in court over whether the Apple App Store has become a monopoly. It is a case that could change how the App Store operates and whether Epics game, Fortnite, a title that has generated over $1 billion through the App Store, will ever make a return on the iPhone.A handheld evolutionThe belief among mobile game developers over a decade ago was that people would open their phones for a few seconds to kills some idle time and then put them away.AdvertisementStory continues below advertisementA few years ago, anybody would have laughed you out of the room if youre a 17-minute  game on a phone, said Michael Chow, who helped create Words with Friends, which launched in 2009. Chow worked on that game when he was at Newtoy, a company he founded with two cousins and later sold to social and mobile game company Zynga. Multiplayer games like Words with Friends were designed to open in less than three seconds and allow for a few minutes of gameplay (spelling a word to play on a board), as people took their turns asynchronously.That was our target and that was the right target actually, for that era of the industry and that era of our players, Chow said. Now, I mean, if you look at the top 10 global games, none of them meet either of those bars at all.Chow is now the executive producer of Riot Games new mobile title, League of Legends: Wild Rift, which can take roughly 15 to 30 minutes per round while players act in real-time.Everything to know about the new mobile game League of Legends: Wild RiftAdvancements in smartphone technology have opened up more room for expansive mobile gaming experiences, but developing games for iPhones with basic hardware a decade ago was a different story.AdvertisementStory continues below advertisementAs beautiful as the original iPhone was, its a much smaller screen, said Humam Sakhnini, president at King, which makes the Candy Crush franchise. Sakhnini took over as president after the company was purchased by Activision Blizzard in 2016. The touch [was] very different  the processing was different, the battery life was different.Back then, games will come and go in a quarter, Sakhnini, said. But titles like Candy Crush have thrived for nearly a decade. That endurance helped change expectations and attract more developers to mobile gaming.Mobile gamings ability to find successful business models early on has also fostered that attraction. The free-to-play model has worked well for many games, encouraging downloads at no cost to users while driving revenue through in-app purchases or the inclusion of in-game advertisements. Candy Crush, for instance, sells players virtual gold bars in exchange for real money. The gold bars can be used to buy candy that helps with matching combos and solving levels, and they can also be used to buy extra lives and continue playing.AdvertisementStory continues below advertisementMobile games have explored various ways to monetize, from gacha systems  where players can spend currency for a chance to win precious in-game loot  to battle passes in games like Fortnite and Call of Duty: Mobile  which, after an upfront payment, unlock more rewards for users as they spend more time playing. Brand sponsorships with retailers and licensing popular properties, like Marvel and Star Wars, for in-game characters and items is another way mobile developers have gotten fans to pay.Fortnite, which has incorporated dozens of brand sponsorships, has generated almost $1.2 billion in player spending on Apples App Store, from its 2018 release to its 2020 removal. Apple made over $100 million from Fortnite revenue commissions during the last 11 months the game was in the App Store, Apple executive Michael Schmid estimated in court testimony during its trial with Epic last week.The appeal of big audiencesMobile gaming has traditionally pulled in a more diverse audience due to the relatively low barrier to entry, since so many people worldwide own a cellphone. According to Ted Krantz, CEO of App Annie, a company that measures apps,  mobile is democratizing gaming to the masses by putting a portable gaming experience in the pocket of every smartphone owner globally.AdvertisementStory continues below advertisementIn developing countries, people often game on their phone rather than any other device.Ive been living in Southeast Asia now since 2012, said Mighty Bear Games CEO Simon Davis. Mighty Bear developed the multiplayer battle royale game Butter Royale for Apple Arcade, Apples gaming subscription service that costs $5 a month after a free trial. This part of the world is just mobile first, but theres no snobbishness around mobile because mobile is just the default gaming platform for close to a billion people here.Virtual reality is starting to see actual gains in gamingConsole and PC developers have taken notice of that broad user base and used mobile to tap into that wider audience, with titles like Call of Duty: Mobile and Crash Bandicoot: On the Run!Over the years, there have been a number of significant deals by Triple-A console companies to get a foot in the mobile market, Sensor Towers Chapple said. Far from just offering small, casual titles, the mobile games market now caters for all tastes with titles that are regularly updated to keep players engaged for years.One of the biggest moves into mobile by a major game publisher focused on consoles and PCs came in 2016 when Activision Blizzard acquired King for $18 in cash per share, or a total equity value of $5.9 billion. The deal drew attention in the gaming industry, as did the success of other mobile titles like Angry Birds (2009), Clash of Clans (2012) and Pokmon Go (2016).AdvertisementStory continues below advertisementKings Sakhnini, who previously worked as Chief Strategy and Talent Officer at Activision Blizzard, described being part of the companys decision to acquire King.Im a lifetime gamer and I love games, and you could tell that theres something there [in the mobile space], Sakhnini said of his first time playing Candy Crush in 2012. We saw the hallmarks of what were seeing in console and PC, which is that this could be a very long-lived franchise, which it turned out to be.Mobile-first for developers tooIt has also helped that technology has continued to advance so developers can build more complex games on phones.The chipset in a phone is better than the PlayStation 2, said Michael Pachter, an analyst at private financial services firm Wedbush who covers gaming. The screen size is obviously tiny, but you can really have stunning games on mobile now.Games developed for mobile today now have big ambitions. Runescape Mobile, a mobile version of the 2001 multiplayer title slated for a June release, will be a live service game  like many free titles on PC and console  and will be updated with more content over time.It just became an opportunity that we couldnt possibly ignore, said Dave Osbourne, lead game designer for Runescape at Jagex. Our players are finding that they have less and less time for an MMO [Massively Multiplayer Online Game]. But yet they do have time for mobile.AdvertisementStory continues below advertisementRyan Ward, executive producer of Runescape at Jagex said that the plan is to launch Runescapes mobile version to start, receive player feedback and continue to support and update the game.Our first job was getting it all kind of ported there, Ward said. And wed see if having a large-scale MMO [on mobile] is actually doable.Runescape on mobile will have transparent walls so users can see their scenery at a glance and navigate the massive maps more easily, and it features other tweaks to make the game playable on a smaller screen.Tech giants like Apple, Google, Microsoft and Amazon are also experimenting with different approaches to mobile gaming. Apple uses the subscription service strategy with Arcade, introduced in 2019, that offers access to a curated collection of over 180 games that dont run ads or microtransactions.Platinum Games didnt want microtransactions in World of Demons, so they turned to Apple ArcadeAs more gaming studios invest in mobile, that could shift how games are designed, as they deal with the constraints of peoples free time, attention spans and the hardware limits of smaller screens, cellular data and more.AdvertisementStory continues below advertisementThe future is actually to develop mobile first, and then do slightly modified or upscale versions on desktop platforms, said Davis, the Mighty Bear Games CEO. Because if you can really nail the mobile experience, it will play beautifully on everything else. You design with the greatest number of limitations, that always gives you the most innovative solutions  and over time, youll probably see more and more developers taking that same approach.Theres another mobile-related possibility that could port popular PC and console games to mobile devices via streaming. Google and Amazon have both launched cloud gaming platforms that allow users to play complete versions of premium console and PC games on their mobile devices. Though cloud gaming has been slow to catch on, it could shake up mobile gaming as it currently stands.Microsofts own cloud gaming service is currently available to Xbox Game Pass subscribers in a testing phase but hasnt been allowed to run on the Apple App Store due to the platforms strict guidelines. But if Apple loses its court case against Epic, it could be forced to open up its App Store and allow cloud gaming apps like Microsofts on the iPhone. It remains to be seen if the more experimental methods will take off.Ultimately, well be able to receive the game on our phone and play it on our television, said Wedbush analyst Pachter. Thats where technology is today. And everybody now knows they need to be in this business.Read more:Genshin Impact tries an interesting live service trick: Make a good game at launchFrom Star Wars to Marvel, licensed video games are becoming more ambitious. Heres why.Knockout City promises affordable dodgeball fun, with many updates to comecomment CommentsToday's HeadlinesThe most important news stories of the day, curated by Post editors and delivered every morning.Loading...View more\""
      ]
     },
     "execution_count": 6,
     "metadata": {},
     "output_type": "execute_result"
    }
   ],
   "source": [
    "text"
   ]
  },
  {
   "cell_type": "code",
   "execution_count": 7,
   "metadata": {},
   "outputs": [],
   "source": [
    "def summarize(text, n):\n",
    "    sents = sent_tokenize(text)\n",
    "    \n",
    "    assert n <= len(sents)\n",
    "    word_sent = word_tokenize(text.lower())\n",
    "    _stopwords = set(stopwords.words('english') + list(punctuation))\n",
    "    \n",
    "    word_sent=[word for word in word_sent if word not in _stopwords]\n",
    "    freq = FreqDist(word_sent)\n",
    "    \n",
    "    \n",
    "    ranking = defaultdict(int)\n",
    "    \n",
    "    for i,sent in enumerate(sents):\n",
    "        for w in word_tokenize(sent.lower()):\n",
    "            if w in freq:\n",
    "                ranking[i] += freq[w]\n",
    "             \n",
    "        \n",
    "    sents_idx = nlargest(n, ranking, key=ranking.get)\n",
    "    return [sents[j] for j in sorted(sents_idx)]"
   ]
  },
  {
   "cell_type": "code",
   "execution_count": 19,
   "metadata": {},
   "outputs": [
    {
     "name": "stdout",
     "output_type": "stream",
     "text": [
      "Candy Crush, Pokémon Go and Call of Duty: How mobile gaming grew so big - The Washington Post\n"
     ]
    },
    {
     "data": {
      "text/plain": [
       "['And though the pandemic dented mobile game spending in 2020, in part due to higher unemployment, it was still significantly larger than consoles or PCs, according to a variety of market analysis firms.AdvertisementStory continues below advertisementMobile gaming brought in an estimated nearly $80 billion in 2020 revenue, compared with PC making almost $37 billion, and consoles  such as the Nintendo Switch, Sonys PlayStation and Microsofts Xbox  totaling $45 billion, according to gaming analytics company Newzoo.Massive game publishing companies like Activision Blizzard and tech giants like Apple have awaked to the opportunity of investing in mobile gaming.',\n",
       " 'Now, I mean, if you look at the top 10 global games, none of them meet either of those bars at all.Chow is now the executive producer of Riot Games new mobile title, League of Legends: Wild Rift, which can take roughly 15 to 30 minutes per round while players act in real-time.Everything to know about the new mobile game League of Legends: Wild RiftAdvancements in smartphone technology have opened up more room for expansive mobile gaming experiences, but developing games for iPhones with basic hardware a decade ago was a different story.AdvertisementStory continues below advertisementAs beautiful as the original iPhone was, its a much smaller screen, said Humam Sakhnini, president at King, which makes the Candy Crush franchise.',\n",
       " 'This part of the world is just mobile first, but theres no snobbishness around mobile because mobile is just the default gaming platform for close to a billion people here.Virtual reality is starting to see actual gains in gamingConsole and PC developers have taken notice of that broad user base and used mobile to tap into that wider audience, with titles like Call of Duty: Mobile and Crash Bandicoot: On the Run!Over the years, there have been a number of significant deals by Triple-A console companies to get a foot in the mobile market, Sensor Towers Chapple said.']"
      ]
     },
     "execution_count": 19,
     "metadata": {},
     "output_type": "execute_result"
    }
   ],
   "source": [
    "print(title.string)\n",
    "summarize(text,3)"
   ]
  },
  {
   "cell_type": "code",
   "execution_count": null,
   "metadata": {},
   "outputs": [],
   "source": []
  },
  {
   "cell_type": "code",
   "execution_count": 17,
   "metadata": {},
   "outputs": [],
   "source": [
    "page = urllib2.urlopen(articleURL).read().decode('utf-8','ignore') \n",
    "soup = BeautifulSoup(page,\"lxml\")"
   ]
  },
  {
   "cell_type": "code",
   "execution_count": 18,
   "metadata": {},
   "outputs": [
    {
     "name": "stdout",
     "output_type": "stream",
     "text": [
      "<title>Candy Crush, Pokémon Go and Call of Duty: How mobile gaming grew so big - The Washington Post</title>\n",
      "Candy Crush, Pokémon Go and Call of Duty: How mobile gaming grew so big - The Washington Post\n"
     ]
    }
   ],
   "source": [
    "title = soup.title\n",
    "print(title)\n",
    "print(title.string)"
   ]
  },
  {
   "cell_type": "code",
   "execution_count": null,
   "metadata": {},
   "outputs": [],
   "source": []
  }
 ],
 "metadata": {
  "kernelspec": {
   "display_name": "Python 3",
   "language": "python",
   "name": "python3"
  },
  "language_info": {
   "codemirror_mode": {
    "name": "ipython",
    "version": 3
   },
   "file_extension": ".py",
   "mimetype": "text/x-python",
   "name": "python",
   "nbconvert_exporter": "python",
   "pygments_lexer": "ipython3",
   "version": "3.7.6"
  }
 },
 "nbformat": 4,
 "nbformat_minor": 4
}
